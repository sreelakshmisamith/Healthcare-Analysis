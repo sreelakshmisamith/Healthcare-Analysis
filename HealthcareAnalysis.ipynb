{
  "nbformat": 4,
  "nbformat_minor": 0,
  "metadata": {
    "colab": {
      "provenance": []
    },
    "kernelspec": {
      "name": "python3",
      "display_name": "Python 3"
    },
    "language_info": {
      "name": "python"
    }
  },
  "cells": [
    {
      "cell_type": "markdown",
      "source": [
        "**Setting up PySpark**"
      ],
      "metadata": {
        "id": "pRkA5bUN3rVW"
      }
    },
    {
      "cell_type": "code",
      "execution_count": null,
      "metadata": {
        "id": "qnJPL0N-lxSU",
        "colab": {
          "base_uri": "https://localhost:8080/"
        },
        "outputId": "b29631d0-db65-49c0-bde4-8b7aeda3ffb5"
      },
      "outputs": [
        {
          "output_type": "stream",
          "name": "stdout",
          "text": [
            "Found existing installation: pyspark 3.5.3\n",
            "Uninstalling pyspark-3.5.3:\n",
            "  Successfully uninstalled pyspark-3.5.3\n",
            "Collecting pyspark\n",
            "  Downloading pyspark-3.5.3.tar.gz (317.3 MB)\n",
            "\u001b[2K     \u001b[90m━━━━━━━━━━━━━━━━━━━━━━━━━━━━━━━━━━━━━━━━\u001b[0m \u001b[32m317.3/317.3 MB\u001b[0m \u001b[31m4.7 MB/s\u001b[0m eta \u001b[36m0:00:00\u001b[0m\n",
            "\u001b[?25h  Preparing metadata (setup.py) ... \u001b[?25l\u001b[?25hdone\n",
            "Requirement already satisfied: py4j==0.10.9.7 in /usr/local/lib/python3.10/dist-packages (from pyspark) (0.10.9.7)\n",
            "Building wheels for collected packages: pyspark\n",
            "  Building wheel for pyspark (setup.py) ... \u001b[?25l\u001b[?25hdone\n",
            "  Created wheel for pyspark: filename=pyspark-3.5.3-py2.py3-none-any.whl size=317840625 sha256=09c4b5ae6707fb296646cb5ca75f112726873f49b1dcf9bd5b5580cfd5468620\n",
            "  Stored in directory: /root/.cache/pip/wheels/1b/3a/92/28b93e2fbfdbb07509ca4d6f50c5e407f48dce4ddbda69a4ab\n",
            "Successfully built pyspark\n",
            "Installing collected packages: pyspark\n",
            "Successfully installed pyspark-3.5.3\n"
          ]
        }
      ],
      "source": [
        "# Uninstall existing PySpark to avoid conflicts\n",
        "!pip uninstall -y pyspark\n",
        "\n",
        "# Install Java 11\n",
        "!apt-get install openjdk-11-jdk-headless -qq > /dev/null\n",
        "\n",
        "# Install PySpark\n",
        "!pip install pyspark\n",
        "\n",
        "# Set environment variables\n",
        "import os\n",
        "os.environ[\"JAVA_HOME\"] = \"/usr/lib/jvm/java-11-openjdk-amd64\"\n",
        "os.environ[\"SPARK_HOME\"] = \"/usr/local/lib/python3.10/dist-packages/pyspark\"\n",
        "\n"
      ]
    },
    {
      "cell_type": "code",
      "source": [
        "# Initialize findspark\n",
        "!pip install findspark\n",
        "import findspark\n",
        "findspark.init()\n",
        "\n",
        "# Create a SparkSession\n",
        "from pyspark.sql import SparkSession\n",
        "\n",
        "spark = SparkSession.builder \\\n",
        "    .master(\"local[*]\") \\\n",
        "    .appName(\"HealthcareProject\") \\\n",
        "    .getOrCreate()\n",
        "\n",
        "# Verify Spark installation\n",
        "print(spark.version)"
      ],
      "metadata": {
        "id": "i-dVIIkLl3K-",
        "colab": {
          "base_uri": "https://localhost:8080/"
        },
        "outputId": "9f0afe93-3f27-4873-b057-54244ce4546a"
      },
      "execution_count": null,
      "outputs": [
        {
          "output_type": "stream",
          "name": "stdout",
          "text": [
            "Collecting findspark\n",
            "  Downloading findspark-2.0.1-py2.py3-none-any.whl.metadata (352 bytes)\n",
            "Downloading findspark-2.0.1-py2.py3-none-any.whl (4.4 kB)\n",
            "Installing collected packages: findspark\n",
            "Successfully installed findspark-2.0.1\n",
            "3.5.3\n"
          ]
        }
      ]
    },
    {
      "cell_type": "markdown",
      "source": [
        "**Loading the dataset**"
      ],
      "metadata": {
        "id": "-11gVhc331-7"
      }
    },
    {
      "cell_type": "code",
      "source": [
        "from google.colab import files\n",
        "uploaded = files.upload()"
      ],
      "metadata": {
        "colab": {
          "base_uri": "https://localhost:8080/",
          "height": 73
        },
        "id": "Z4EaFlMyxJSz",
        "outputId": "ed4f1772-bb1f-4bf7-98dc-d05aa88205bf"
      },
      "execution_count": null,
      "outputs": [
        {
          "output_type": "display_data",
          "data": {
            "text/plain": [
              "<IPython.core.display.HTML object>"
            ],
            "text/html": [
              "\n",
              "     <input type=\"file\" id=\"files-f41b185b-dede-4d9b-9b0f-799f2092cc70\" name=\"files[]\" multiple disabled\n",
              "        style=\"border:none\" />\n",
              "     <output id=\"result-f41b185b-dede-4d9b-9b0f-799f2092cc70\">\n",
              "      Upload widget is only available when the cell has been executed in the\n",
              "      current browser session. Please rerun this cell to enable.\n",
              "      </output>\n",
              "      <script>// Copyright 2017 Google LLC\n",
              "//\n",
              "// Licensed under the Apache License, Version 2.0 (the \"License\");\n",
              "// you may not use this file except in compliance with the License.\n",
              "// You may obtain a copy of the License at\n",
              "//\n",
              "//      http://www.apache.org/licenses/LICENSE-2.0\n",
              "//\n",
              "// Unless required by applicable law or agreed to in writing, software\n",
              "// distributed under the License is distributed on an \"AS IS\" BASIS,\n",
              "// WITHOUT WARRANTIES OR CONDITIONS OF ANY KIND, either express or implied.\n",
              "// See the License for the specific language governing permissions and\n",
              "// limitations under the License.\n",
              "\n",
              "/**\n",
              " * @fileoverview Helpers for google.colab Python module.\n",
              " */\n",
              "(function(scope) {\n",
              "function span(text, styleAttributes = {}) {\n",
              "  const element = document.createElement('span');\n",
              "  element.textContent = text;\n",
              "  for (const key of Object.keys(styleAttributes)) {\n",
              "    element.style[key] = styleAttributes[key];\n",
              "  }\n",
              "  return element;\n",
              "}\n",
              "\n",
              "// Max number of bytes which will be uploaded at a time.\n",
              "const MAX_PAYLOAD_SIZE = 100 * 1024;\n",
              "\n",
              "function _uploadFiles(inputId, outputId) {\n",
              "  const steps = uploadFilesStep(inputId, outputId);\n",
              "  const outputElement = document.getElementById(outputId);\n",
              "  // Cache steps on the outputElement to make it available for the next call\n",
              "  // to uploadFilesContinue from Python.\n",
              "  outputElement.steps = steps;\n",
              "\n",
              "  return _uploadFilesContinue(outputId);\n",
              "}\n",
              "\n",
              "// This is roughly an async generator (not supported in the browser yet),\n",
              "// where there are multiple asynchronous steps and the Python side is going\n",
              "// to poll for completion of each step.\n",
              "// This uses a Promise to block the python side on completion of each step,\n",
              "// then passes the result of the previous step as the input to the next step.\n",
              "function _uploadFilesContinue(outputId) {\n",
              "  const outputElement = document.getElementById(outputId);\n",
              "  const steps = outputElement.steps;\n",
              "\n",
              "  const next = steps.next(outputElement.lastPromiseValue);\n",
              "  return Promise.resolve(next.value.promise).then((value) => {\n",
              "    // Cache the last promise value to make it available to the next\n",
              "    // step of the generator.\n",
              "    outputElement.lastPromiseValue = value;\n",
              "    return next.value.response;\n",
              "  });\n",
              "}\n",
              "\n",
              "/**\n",
              " * Generator function which is called between each async step of the upload\n",
              " * process.\n",
              " * @param {string} inputId Element ID of the input file picker element.\n",
              " * @param {string} outputId Element ID of the output display.\n",
              " * @return {!Iterable<!Object>} Iterable of next steps.\n",
              " */\n",
              "function* uploadFilesStep(inputId, outputId) {\n",
              "  const inputElement = document.getElementById(inputId);\n",
              "  inputElement.disabled = false;\n",
              "\n",
              "  const outputElement = document.getElementById(outputId);\n",
              "  outputElement.innerHTML = '';\n",
              "\n",
              "  const pickedPromise = new Promise((resolve) => {\n",
              "    inputElement.addEventListener('change', (e) => {\n",
              "      resolve(e.target.files);\n",
              "    });\n",
              "  });\n",
              "\n",
              "  const cancel = document.createElement('button');\n",
              "  inputElement.parentElement.appendChild(cancel);\n",
              "  cancel.textContent = 'Cancel upload';\n",
              "  const cancelPromise = new Promise((resolve) => {\n",
              "    cancel.onclick = () => {\n",
              "      resolve(null);\n",
              "    };\n",
              "  });\n",
              "\n",
              "  // Wait for the user to pick the files.\n",
              "  const files = yield {\n",
              "    promise: Promise.race([pickedPromise, cancelPromise]),\n",
              "    response: {\n",
              "      action: 'starting',\n",
              "    }\n",
              "  };\n",
              "\n",
              "  cancel.remove();\n",
              "\n",
              "  // Disable the input element since further picks are not allowed.\n",
              "  inputElement.disabled = true;\n",
              "\n",
              "  if (!files) {\n",
              "    return {\n",
              "      response: {\n",
              "        action: 'complete',\n",
              "      }\n",
              "    };\n",
              "  }\n",
              "\n",
              "  for (const file of files) {\n",
              "    const li = document.createElement('li');\n",
              "    li.append(span(file.name, {fontWeight: 'bold'}));\n",
              "    li.append(span(\n",
              "        `(${file.type || 'n/a'}) - ${file.size} bytes, ` +\n",
              "        `last modified: ${\n",
              "            file.lastModifiedDate ? file.lastModifiedDate.toLocaleDateString() :\n",
              "                                    'n/a'} - `));\n",
              "    const percent = span('0% done');\n",
              "    li.appendChild(percent);\n",
              "\n",
              "    outputElement.appendChild(li);\n",
              "\n",
              "    const fileDataPromise = new Promise((resolve) => {\n",
              "      const reader = new FileReader();\n",
              "      reader.onload = (e) => {\n",
              "        resolve(e.target.result);\n",
              "      };\n",
              "      reader.readAsArrayBuffer(file);\n",
              "    });\n",
              "    // Wait for the data to be ready.\n",
              "    let fileData = yield {\n",
              "      promise: fileDataPromise,\n",
              "      response: {\n",
              "        action: 'continue',\n",
              "      }\n",
              "    };\n",
              "\n",
              "    // Use a chunked sending to avoid message size limits. See b/62115660.\n",
              "    let position = 0;\n",
              "    do {\n",
              "      const length = Math.min(fileData.byteLength - position, MAX_PAYLOAD_SIZE);\n",
              "      const chunk = new Uint8Array(fileData, position, length);\n",
              "      position += length;\n",
              "\n",
              "      const base64 = btoa(String.fromCharCode.apply(null, chunk));\n",
              "      yield {\n",
              "        response: {\n",
              "          action: 'append',\n",
              "          file: file.name,\n",
              "          data: base64,\n",
              "        },\n",
              "      };\n",
              "\n",
              "      let percentDone = fileData.byteLength === 0 ?\n",
              "          100 :\n",
              "          Math.round((position / fileData.byteLength) * 100);\n",
              "      percent.textContent = `${percentDone}% done`;\n",
              "\n",
              "    } while (position < fileData.byteLength);\n",
              "  }\n",
              "\n",
              "  // All done.\n",
              "  yield {\n",
              "    response: {\n",
              "      action: 'complete',\n",
              "    }\n",
              "  };\n",
              "}\n",
              "\n",
              "scope.google = scope.google || {};\n",
              "scope.google.colab = scope.google.colab || {};\n",
              "scope.google.colab._files = {\n",
              "  _uploadFiles,\n",
              "  _uploadFilesContinue,\n",
              "};\n",
              "})(self);\n",
              "</script> "
            ]
          },
          "metadata": {}
        },
        {
          "output_type": "stream",
          "name": "stdout",
          "text": [
            "Saving train.csv to train.csv\n"
          ]
        }
      ]
    },
    {
      "cell_type": "code",
      "source": [
        "df = spark.read.csv(\"/content/train.csv\", header=True, inferSchema=True)\n",
        "df.show(5)\n"
      ],
      "metadata": {
        "colab": {
          "base_uri": "https://localhost:8080/"
        },
        "id": "LQ-Tfn9Y3O6L",
        "outputId": "907638ac-d72d-47c7-dfea-9690a98dfb02"
      },
      "execution_count": null,
      "outputs": [
        {
          "output_type": "stream",
          "name": "stdout",
          "text": [
            "+---+------+---+---------------+-----------+------------------+-----------+--------------+--------------+--------------------+-------+--------+\n",
            "| id|Gender|Age|Driving_License|Region_Code|Previously_Insured|Vehicle_Age|Vehicle_Damage|Annual_Premium|Policy_Sales_Channel|Vintage|Response|\n",
            "+---+------+---+---------------+-----------+------------------+-----------+--------------+--------------+--------------------+-------+--------+\n",
            "|  1|  Male| 44|              1|       28.0|                 0|  > 2 Years|           Yes|       40454.0|                26.0|    217|       1|\n",
            "|  2|  Male| 76|              1|        3.0|                 0|   1-2 Year|            No|       33536.0|                26.0|    183|       0|\n",
            "|  3|  Male| 47|              1|       28.0|                 0|  > 2 Years|           Yes|       38294.0|                26.0|     27|       1|\n",
            "|  4|  Male| 21|              1|       11.0|                 1|   < 1 Year|            No|       28619.0|               152.0|    203|       0|\n",
            "|  5|Female| 29|              1|       41.0|                 1|   < 1 Year|            No|       27496.0|               152.0|     39|       0|\n",
            "+---+------+---+---------------+-----------+------------------+-----------+--------------+--------------+--------------------+-------+--------+\n",
            "only showing top 5 rows\n",
            "\n"
          ]
        }
      ]
    },
    {
      "cell_type": "markdown",
      "source": [
        "**Data preprocessing**"
      ],
      "metadata": {
        "id": "kVl8gzJo38vF"
      }
    },
    {
      "cell_type": "code",
      "source": [
        "# Drop duplicates\n",
        "df_clean = df.dropDuplicates()\n",
        "\n",
        "# Fill missing values\n",
        "df_clean = df_clean.na.fill({\n",
        "    \"Age\": \"Unknown\",\n",
        "    \"Gender\": \"Unknown\",\n",
        "    \"Driving_License\": \"No\",\n",
        "    \"Region_Code\": \"Unknown\",\n",
        "    \"Previously_Insured\": \"No\",\n",
        "    \"Vehicle_Age\": \"Unknown\",\n",
        "    \"Vehicle_Damage\": \"No\",\n",
        "    \"Annual_Premium\": 0,\n",
        "    \"Policy_Sales_Channel\": \"Unknown\",\n",
        "    \"Vintage\": 0\n",
        "})\n",
        "df_clean.show(5)\n"
      ],
      "metadata": {
        "colab": {
          "base_uri": "https://localhost:8080/"
        },
        "id": "rgJOK6rP43zX",
        "outputId": "3c91aa6f-6719-4282-b1b8-2af1ad56e715"
      },
      "execution_count": null,
      "outputs": [
        {
          "output_type": "stream",
          "name": "stdout",
          "text": [
            "+---+------+---+---------------+-----------+------------------+-----------+--------------+--------------+--------------------+-------+--------+\n",
            "| id|Gender|Age|Driving_License|Region_Code|Previously_Insured|Vehicle_Age|Vehicle_Damage|Annual_Premium|Policy_Sales_Channel|Vintage|Response|\n",
            "+---+------+---+---------------+-----------+------------------+-----------+--------------+--------------+--------------------+-------+--------+\n",
            "| 99|Female| 21|              1|        2.0|                 0|   < 1 Year|           Yes|       34274.0|               152.0|     79|       0|\n",
            "|128|Female| 22|              1|       25.0|                 0|   < 1 Year|           Yes|       23955.0|               160.0|     22|       0|\n",
            "|415|Female| 25|              1|       43.0|                 1|   < 1 Year|            No|       27080.0|               160.0|    177|       0|\n",
            "|539|  Male| 41|              1|       28.0|                 0|   1-2 Year|           Yes|       44898.0|               124.0|    154|       0|\n",
            "|627|  Male| 44|              1|       23.0|                 0|   1-2 Year|           Yes|       42609.0|               124.0|     83|       0|\n",
            "+---+------+---+---------------+-----------+------------------+-----------+--------------+--------------+--------------------+-------+--------+\n",
            "only showing top 5 rows\n",
            "\n"
          ]
        }
      ]
    },
    {
      "cell_type": "code",
      "source": [
        "# Convert categorical columns to numeric\n",
        "from pyspark.ml.feature import StringIndexer\n",
        "from pyspark.ml import Pipeline\n",
        "\n",
        "# List of categorical columns to convert\n",
        "categorical_columns = [\"Gender\", \"Vehicle_Age\", \"Vehicle_Damage\", \"Driving_License\", \"Region_Code\", \"Previously_Insured\"]\n",
        "\n",
        "# Create a list of StringIndexer stages\n",
        "indexers = [StringIndexer(inputCol=col, outputCol=f\"{col}_index\") for col in categorical_columns]\n",
        "\n",
        "# Create a Pipeline\n",
        "pipeline = Pipeline(stages=indexers)\n",
        "\n",
        "# Fit and transform the DataFrame\n",
        "df_clean_indexed = pipeline.fit(df_clean).transform(df_clean)\n",
        "\n",
        "# Show the transformed DataFrame with indexed columns\n",
        "df_clean_indexed.show(5)"
      ],
      "metadata": {
        "colab": {
          "base_uri": "https://localhost:8080/"
        },
        "id": "mVzO6B_k6IS6",
        "outputId": "9005190b-76de-43df-ad76-d1c8640bbc1d"
      },
      "execution_count": null,
      "outputs": [
        {
          "output_type": "stream",
          "name": "stdout",
          "text": [
            "+---+------+---+---------------+-----------+------------------+-----------+--------------+--------------+--------------------+-------+--------+------------+-----------------+--------------------+---------------------+-----------------+------------------------+\n",
            "| id|Gender|Age|Driving_License|Region_Code|Previously_Insured|Vehicle_Age|Vehicle_Damage|Annual_Premium|Policy_Sales_Channel|Vintage|Response|Gender_index|Vehicle_Age_index|Vehicle_Damage_index|Driving_License_index|Region_Code_index|Previously_Insured_index|\n",
            "+---+------+---+---------------+-----------+------------------+-----------+--------------+--------------+--------------------+-------+--------+------------+-----------------+--------------------+---------------------+-----------------+------------------------+\n",
            "| 99|Female| 21|              1|        2.0|                 0|   < 1 Year|           Yes|       34274.0|               152.0|     79|       0|         1.0|              1.0|                 0.0|                  0.0|             23.0|                     0.0|\n",
            "|128|Female| 22|              1|       25.0|                 0|   < 1 Year|           Yes|       23955.0|               160.0|     22|       0|         1.0|              1.0|                 0.0|                  0.0|             33.0|                     0.0|\n",
            "|415|Female| 25|              1|       43.0|                 1|   < 1 Year|            No|       27080.0|               160.0|    177|       0|         1.0|              1.0|                 1.0|                  0.0|             30.0|                     1.0|\n",
            "|539|  Male| 41|              1|       28.0|                 0|   1-2 Year|           Yes|       44898.0|               124.0|    154|       0|         0.0|              0.0|                 0.0|                  0.0|              0.0|                     0.0|\n",
            "|627|  Male| 44|              1|       23.0|                 0|   1-2 Year|           Yes|       42609.0|               124.0|     83|       0|         0.0|              0.0|                 0.0|                  0.0|             38.0|                     0.0|\n",
            "+---+------+---+---------------+-----------+------------------+-----------+--------------+--------------+--------------------+-------+--------+------------+-----------------+--------------------+---------------------+-----------------+------------------------+\n",
            "only showing top 5 rows\n",
            "\n"
          ]
        }
      ]
    },
    {
      "cell_type": "code",
      "source": [
        "# Assemble features\n",
        "from pyspark.ml.feature import VectorAssembler\n",
        "\n",
        "# List of feature columns to combine into a single vector\n",
        "# Use the correct existing columns from your DataFrame\n",
        "feature_columns = [\"Age\", \"Annual_Premium\", \"Policy_Sales_Channel\", \"Vintage\", \"Response\",\n",
        "                   \"Gender_index\", \"Vehicle_Age_index\", \"Vehicle_Damage_index\", \"Driving_License_index\",\n",
        "                   \"Region_Code_index\", \"Previously_Insured_index\"]\n",
        "\n",
        "# Create a VectorAssembler\n",
        "assembler = VectorAssembler(inputCols=feature_columns, outputCol=\"features\")\n",
        "\n",
        "# Transform the DataFrame to include the features vector\n",
        "df_features = assembler.transform(df_clean_indexed)  # Use df_clean_indexed after indexing\n",
        "\n",
        "# Show the features vector\n",
        "df_features.select(\"features\").show(5)"
      ],
      "metadata": {
        "colab": {
          "base_uri": "https://localhost:8080/"
        },
        "id": "37gVKVim6jg0",
        "outputId": "5a360778-7a61-44ee-8a24-ba6833e9f021"
      },
      "execution_count": null,
      "outputs": [
        {
          "output_type": "stream",
          "name": "stdout",
          "text": [
            "+--------------------+\n",
            "|            features|\n",
            "+--------------------+\n",
            "|[21.0,34274.0,152...|\n",
            "|[22.0,23955.0,160...|\n",
            "|[25.0,27080.0,160...|\n",
            "|(11,[0,1,2,3],[41...|\n",
            "|(11,[0,1,2,3,9],[...|\n",
            "+--------------------+\n",
            "only showing top 5 rows\n",
            "\n"
          ]
        }
      ]
    },
    {
      "cell_type": "markdown",
      "source": [
        "**Train machine learning models**"
      ],
      "metadata": {
        "id": "Yn92TZP89IID"
      }
    },
    {
      "cell_type": "markdown",
      "source": [
        "Random Forest"
      ],
      "metadata": {
        "id": "TLSXjfaxqtCY"
      }
    },
    {
      "cell_type": "code",
      "source": [
        "# 1. Define the target column and feature columns\n",
        "target_column = \"Response\"  # This is your target variable\n",
        "feature_columns = [\"Age\", \"Annual_Premium\", \"Policy_Sales_Channel\", \"Vintage\",\n",
        "                   \"Gender_index\", \"Vehicle_Age_index\", \"Vehicle_Damage_index\",\n",
        "                   \"Driving_License_index\", \"Region_Code_index\", \"Previously_Insured_index\"]\n",
        "\n",
        "# 2. Assemble features into a single vector (if not already done)\n",
        "assembler = VectorAssembler(inputCols=feature_columns, outputCol='features')\n",
        "df_features = assembler.transform(df_clean_indexed)\n",
        "\n",
        "# 3. Select only the features and target column\n",
        "final_data = df_features.select('features', target_column)\n",
        "\n",
        "# 4. Split the data into training and test sets\n",
        "train_data, test_data = final_data.randomSplit([0.8, 0.2], seed=42)\n",
        "\n",
        "# 5. Initialize the Random Forest Classifier\n",
        "from pyspark.ml.classification import RandomForestClassifier\n",
        "from pyspark.ml.evaluation import MulticlassClassificationEvaluator\n",
        "from pyspark.ml import Pipeline\n",
        "\n",
        "rf = RandomForestClassifier(featuresCol='features', labelCol=target_column, numTrees=100, maxBins=100)\n",
        "\n",
        "# 6. Create a Pipeline\n",
        "pipeline = Pipeline(stages=[rf])\n",
        "\n",
        "# 7. Fit the model\n",
        "model = pipeline.fit(train_data)\n",
        "\n",
        "# 8. Make predictions\n",
        "predictions = model.transform(test_data)\n",
        "\n",
        "# 9. Show predictions\n",
        "predictions.select('features', target_column, 'prediction').show(5)\n",
        "\n",
        "# 10. Evaluate the model with multiple metrics\n",
        "\n",
        "# Accuracy\n",
        "evaluator_accuracy = MulticlassClassificationEvaluator(labelCol=target_column, predictionCol='prediction', metricName='accuracy')\n",
        "accuracy = evaluator_accuracy.evaluate(predictions)\n",
        "\n",
        "# F1 Score\n",
        "evaluator_f1 = MulticlassClassificationEvaluator(labelCol=target_column, predictionCol='prediction', metricName='f1')\n",
        "f1_score = evaluator_f1.evaluate(predictions)\n",
        "\n",
        "# Precision\n",
        "evaluator_precision = MulticlassClassificationEvaluator(labelCol=target_column, predictionCol='prediction', metricName='weightedPrecision')\n",
        "precision = evaluator_precision.evaluate(predictions)\n",
        "\n",
        "# Recall\n",
        "evaluator_recall = MulticlassClassificationEvaluator(labelCol=target_column, predictionCol='prediction', metricName='weightedRecall')\n",
        "recall = evaluator_recall.evaluate(predictions)\n",
        "\n",
        "# Print all the evaluation metrics\n",
        "print(f\"Model Accuracy: {accuracy:.2f}\")\n",
        "print(f\"Model F1 Score: {f1_score:.2f}\")\n",
        "print(f\"Model Precision: {precision:.2f}\")\n",
        "print(f\"Model Recall: {recall:.2f}\")\n"
      ],
      "metadata": {
        "colab": {
          "base_uri": "https://localhost:8080/"
        },
        "id": "41qyhHJHhrKv",
        "outputId": "0cf909c5-41b8-4f08-95fb-eea0229809e4"
      },
      "execution_count": null,
      "outputs": [
        {
          "output_type": "stream",
          "name": "stdout",
          "text": [
            "+--------------------+--------+----------+\n",
            "|            features|Response|prediction|\n",
            "+--------------------+--------+----------+\n",
            "|(10,[0,1,2,3],[20...|       0|       0.0|\n",
            "|(10,[0,1,2,3],[20...|       0|       0.0|\n",
            "|(10,[0,1,2,3],[20...|       0|       0.0|\n",
            "|(10,[0,1,2,3],[20...|       0|       0.0|\n",
            "|(10,[0,1,2,3],[20...|       0|       0.0|\n",
            "+--------------------+--------+----------+\n",
            "only showing top 5 rows\n",
            "\n",
            "Model Accuracy: 0.88\n",
            "Model F1 Score: 0.82\n",
            "Model Precision: 0.77\n",
            "Model Recall: 0.88\n"
          ]
        }
      ]
    },
    {
      "cell_type": "markdown",
      "source": [
        "Logistic Regression"
      ],
      "metadata": {
        "id": "0hOAHN97JgPr"
      }
    },
    {
      "cell_type": "code",
      "source": [
        "# 1. Initialize the Logistic Regression Classifier\n",
        "from pyspark.ml.classification import LogisticRegression\n",
        "\n",
        "# 2. Create a Logistic Regression model\n",
        "logistic_regression = LogisticRegression(featuresCol='features', labelCol=target_column)\n",
        "\n",
        "# 3. Create a Pipeline with Logistic Regression\n",
        "pipeline_lr = Pipeline(stages=[logistic_regression])\n",
        "\n",
        "# 4. Fit the model\n",
        "model_lr = pipeline_lr.fit(train_data)\n",
        "\n",
        "# 5. Make predictions\n",
        "predictions_lr = model_lr.transform(test_data)\n",
        "\n",
        "# 6. Show predictions\n",
        "predictions_lr.select('features', target_column, 'prediction').show(5)\n",
        "\n",
        "# 7. Evaluate the model\n",
        "evaluator_lr = MulticlassClassificationEvaluator(labelCol=target_column, predictionCol='prediction', metricName='accuracy')\n",
        "accuracy_lr = evaluator_lr.evaluate(predictions_lr)\n",
        "\n",
        "print(f\"Logistic Regression Model Accuracy: {accuracy_lr:.2f}\")\n",
        "\n",
        "# Additional evaluation metrics (optional)\n",
        "from pyspark.ml.evaluation import MulticlassClassificationEvaluator\n",
        "\n",
        "evaluator_lr_f1 = MulticlassClassificationEvaluator(labelCol=target_column, predictionCol='prediction', metricName='f1')\n",
        "f1_score = evaluator_lr_f1.evaluate(predictions_lr)\n",
        "\n",
        "evaluator_lr_precision = MulticlassClassificationEvaluator(labelCol=target_column, predictionCol='prediction', metricName='weightedPrecision')\n",
        "precision = evaluator_lr_precision.evaluate(predictions_lr)\n",
        "\n",
        "evaluator_lr_recall = MulticlassClassificationEvaluator(labelCol=target_column, predictionCol='prediction', metricName='weightedRecall')\n",
        "recall = evaluator_lr_recall.evaluate(predictions_lr)\n",
        "\n",
        "print(f\"Logistic Regression Model F1 Score: {f1_score:.2f}\")\n",
        "print(f\"Logistic Regression Model Precision: {precision:.2f}\")\n",
        "print(f\"Logistic Regression Model Recall: {recall:.2f}\")"
      ],
      "metadata": {
        "colab": {
          "base_uri": "https://localhost:8080/"
        },
        "id": "QtkVAVYSJiUz",
        "outputId": "3d3bf9ed-f117-4a9b-bb20-5a929ef468fc"
      },
      "execution_count": null,
      "outputs": [
        {
          "output_type": "stream",
          "name": "stdout",
          "text": [
            "+--------------------+--------+----------+\n",
            "|            features|Response|prediction|\n",
            "+--------------------+--------+----------+\n",
            "|(10,[0,1,2,3],[20...|       0|       0.0|\n",
            "|(10,[0,1,2,3],[20...|       0|       0.0|\n",
            "|(10,[0,1,2,3],[20...|       0|       0.0|\n",
            "|(10,[0,1,2,3],[20...|       0|       0.0|\n",
            "|(10,[0,1,2,3],[20...|       0|       0.0|\n",
            "+--------------------+--------+----------+\n",
            "only showing top 5 rows\n",
            "\n",
            "Logistic Regression Model Accuracy: 0.88\n",
            "Logistic Regression Model F1 Score: 0.82\n",
            "Logistic Regression Model Precision: 0.77\n",
            "Logistic Regression Model Recall: 0.88\n"
          ]
        }
      ]
    },
    {
      "cell_type": "markdown",
      "source": [
        "K-Means Clustering"
      ],
      "metadata": {
        "id": "JB9pI0-5KPvl"
      }
    },
    {
      "cell_type": "code",
      "source": [
        "# Import necessary libraries for K-Means\n",
        "from pyspark.ml.clustering import KMeans\n",
        "from pyspark.ml.evaluation import ClusteringEvaluator\n",
        "\n",
        "# Define the feature columns to use for clustering\n",
        "clustering_feature_columns = [\"Age\", \"Annual_Premium\", \"Policy_Sales_Channel\", \"Vintage\",\n",
        "                              \"Gender_index\", \"Vehicle_Age_index\", \"Vehicle_Damage_index\",\n",
        "                              \"Driving_License_index\", \"Region_Code_index\",\n",
        "                              \"Previously_Insured_index\"]\n",
        "\n",
        "# Create a new VectorAssembler for clustering\n",
        "assembler_clustering = VectorAssembler(inputCols=clustering_feature_columns, outputCol='features_clustering')\n",
        "\n",
        "# Transform the DataFrame to include the features vector for clustering\n",
        "df_clustering = assembler_clustering.transform(df_clean_indexed)\n",
        "\n",
        "# Specify the number of clusters you want to create\n",
        "kmeans = KMeans(k=5, seed=42, featuresCol='features_clustering', predictionCol='prediction')  # Specify the features column\n",
        "\n",
        "# Fit the model using the correct features column\n",
        "model_kmeans = kmeans.fit(df_clustering)\n",
        "\n",
        "# Make predictions\n",
        "predictions_kmeans = model_kmeans.transform(df_clustering)\n",
        "\n",
        "# Show the predictions (cluster assignments)\n",
        "predictions_kmeans.select(\"features_clustering\", \"prediction\").show(5)\n",
        "\n",
        "# Evaluate clustering by computing the Silhouette score\n",
        "evaluator = ClusteringEvaluator(featuresCol='features_clustering', predictionCol='prediction')\n",
        "\n",
        "# Evaluate the clustering\n",
        "silhouette = evaluator.evaluate(predictions_kmeans)\n",
        "print(f\"Silhouette Score: {silhouette:.2f}\")\n",
        "\n",
        "# Show the cluster centers\n",
        "centers = model_kmeans.clusterCenters()\n",
        "print(\"Cluster Centers: \")\n",
        "for center in centers:\n",
        "    print(center)\n",
        "\n",
        "# Optionally, you can show the count of records in each cluster\n",
        "cluster_counts = predictions_kmeans.groupBy(\"prediction\").count()\n",
        "cluster_counts.show()"
      ],
      "metadata": {
        "colab": {
          "base_uri": "https://localhost:8080/"
        },
        "id": "svOB0HneMm_6",
        "outputId": "7ccd42bc-7bbd-4b18-d6ee-72631a4c4684"
      },
      "execution_count": null,
      "outputs": [
        {
          "output_type": "stream",
          "name": "stdout",
          "text": [
            "+--------------------+----------+\n",
            "| features_clustering|prediction|\n",
            "+--------------------+----------+\n",
            "|[21.0,34274.0,152...|         0|\n",
            "|[22.0,23955.0,160...|         0|\n",
            "|[25.0,27080.0,160...|         0|\n",
            "|(10,[0,1,2,3],[41...|         2|\n",
            "|(10,[0,1,2,3,8],[...|         2|\n",
            "+--------------------+----------+\n",
            "only showing top 5 rows\n",
            "\n",
            "Silhouette Score: 0.76\n",
            "Cluster Centers: \n",
            "[3.57931676e+01 2.87428985e+04 1.19901974e+02 1.54108183e+02\n",
            " 4.83888155e-01 5.77753468e-01 5.60952937e-01 1.55875368e-03\n",
            " 1.12281449e+01 5.25339667e-01]\n",
            "[4.08921443e+01 2.74744760e+03 1.14120323e+02 1.54718138e+02\n",
            " 4.31972166e-01 4.06503693e-01 4.16865043e-01 1.90746506e-03\n",
            " 1.56451199e+01 3.64219008e-01]\n",
            "[4.11486271e+01 4.20898907e+04 1.02578810e+02 1.54499415e+02\n",
            " 4.40500491e-01 4.90122561e-01 4.53012769e-01 2.68181236e-03\n",
            " 5.87328864e+00 4.20984755e-01]\n",
            "[4.45612371e+01 6.51736348e+04 9.30834284e+01 1.54331113e+02\n",
            " 4.42092779e-01 4.91903480e-01 4.24713771e-01 4.47019112e-03\n",
            " 2.55124755e+00 3.98439995e-01]\n",
            "[4.35000000e+01 2.77488856e+05 9.70616438e+01 1.57534247e+02\n",
            " 5.13698630e-01 4.24657534e-01 4.17808219e-01 0.00000000e+00\n",
            " 2.30821918e+00 3.56164384e-01]\n",
            "+----------+------+\n",
            "|prediction| count|\n",
            "+----------+------+\n",
            "|         1| 65529|\n",
            "|         3| 22016|\n",
            "|         4|   146|\n",
            "|         2|117246|\n",
            "|         0|176172|\n",
            "+----------+------+\n",
            "\n"
          ]
        }
      ]
    },
    {
      "cell_type": "markdown",
      "source": [
        "**Saving Predictions and Model Results to CSV**"
      ],
      "metadata": {
        "id": "TZ8ni9HnTUIH"
      }
    },
    {
      "cell_type": "code",
      "source": [
        "from pyspark.sql.functions import udf, col, concat_ws\n",
        "from pyspark.sql.types import ArrayType, DoubleType\n",
        "from google.colab import files\n",
        "import pandas as pd\n",
        "import shutil\n",
        "\n",
        "# Define a UDF to convert the features vector to an array\n",
        "def vector_to_array(v):\n",
        "    return v.toArray().tolist() if v is not None else None\n",
        "\n",
        "# Register the UDF\n",
        "vector_to_array_udf = udf(vector_to_array, ArrayType(DoubleType()))\n",
        "\n",
        "# Convert the features column to an array\n",
        "predictions = predictions.withColumn(\"features_array\", vector_to_array_udf(col(\"features\")))\n",
        "\n",
        "# Convert the features array to a string for saving to CSV\n",
        "predictions = predictions.withColumn(\"features_string\", concat_ws(\",\", col(\"features_array\")))\n",
        "\n",
        "# Save Random Forest Predictions\n",
        "rf_predictions_path = \"/content/rf_predictions.csv\"\n",
        "predictions.select(\"features_string\", \"prediction\", target_column).write.csv(rf_predictions_path, header=True, mode=\"overwrite\")\n",
        "\n",
        "# Convert Logistic Regression predictions to array\n",
        "predictions_lr = predictions_lr.withColumn(\"features_array\", vector_to_array_udf(col(\"features\")))\n",
        "predictions_lr = predictions_lr.withColumn(\"features_string\", concat_ws(\",\", col(\"features_array\")))\n",
        "\n",
        "# Save Logistic Regression Predictions\n",
        "lr_predictions_path = \"/content/lr_predictions.csv\"\n",
        "predictions_lr.select(\"features_string\", \"prediction\", target_column).write.csv(lr_predictions_path, header=True, mode=\"overwrite\")\n",
        "\n",
        "# Convert K-Means predictions to array\n",
        "predictions_kmeans = predictions_kmeans.withColumn(\"features_array\", vector_to_array_udf(col(\"features_clustering\")))\n",
        "predictions_kmeans = predictions_kmeans.withColumn(\"features_string\", concat_ws(\",\", col(\"features_array\")))\n",
        "\n",
        "# Save K-Means Clustering Predictions\n",
        "kmeans_predictions_path = \"/content/kmeans_predictions.csv\"\n",
        "predictions_kmeans.select(\"features_string\", \"prediction\").write.csv(kmeans_predictions_path, header=True, mode=\"overwrite\")\n",
        "\n",
        "# Save Model Accuracy Results to a CSV file\n",
        "# Create a DataFrame for model accuracy results\n",
        "accuracy_results = {\n",
        "    \"Model\": [\"Random Forest\", \"Logistic Regression\"],\n",
        "    \"Accuracy\": [accuracy, accuracy_lr],\n",
        "    \"F1 Score\": [None, f1_score],\n",
        "    \"Precision\": [None, precision],\n",
        "    \"Recall\": [None, recall]\n",
        "}\n",
        "\n",
        "# Convert to pandas DataFrame\n",
        "accuracy_df = pd.DataFrame(accuracy_results)\n",
        "\n",
        "# Save the accuracy results to a CSV file\n",
        "accuracy_results_path = \"/content/model_accuracy_results.csv\"\n",
        "accuracy_df.to_csv(accuracy_results_path, index=False)\n",
        "\n",
        "# Download the generated files\n",
        "files.download(rf_predictions_path)\n",
        "files.download(lr_predictions_path)\n",
        "files.download(kmeans_predictions_path)\n",
        "files.download(accuracy_results_path)\n",
        "\n",
        "# Optionally, create a zip file containing all the CSV files\n",
        "shutil.make_archive('/content/predictions_and_results', 'zip', '/content')\n",
        "\n",
        "# Download the zip file\n",
        "files.download('/content/predictions_and_results.zip')\n",
        "\n",
        "print(f\"Predictions and model results saved and ready for download.\")"
      ],
      "metadata": {
        "colab": {
          "base_uri": "https://localhost:8080/",
          "height": 86
        },
        "id": "esdKtOtJWtBS",
        "outputId": "157b39b8-faa3-420e-c5ff-4666d10fed19"
      },
      "execution_count": null,
      "outputs": [
        {
          "output_type": "display_data",
          "data": {
            "text/plain": [
              "<IPython.core.display.Javascript object>"
            ],
            "application/javascript": [
              "\n",
              "    async function download(id, filename, size) {\n",
              "      if (!google.colab.kernel.accessAllowed) {\n",
              "        return;\n",
              "      }\n",
              "      const div = document.createElement('div');\n",
              "      const label = document.createElement('label');\n",
              "      label.textContent = `Downloading \"${filename}\": `;\n",
              "      div.appendChild(label);\n",
              "      const progress = document.createElement('progress');\n",
              "      progress.max = size;\n",
              "      div.appendChild(progress);\n",
              "      document.body.appendChild(div);\n",
              "\n",
              "      const buffers = [];\n",
              "      let downloaded = 0;\n",
              "\n",
              "      const channel = await google.colab.kernel.comms.open(id);\n",
              "      // Send a message to notify the kernel that we're ready.\n",
              "      channel.send({})\n",
              "\n",
              "      for await (const message of channel.messages) {\n",
              "        // Send a message to notify the kernel that we're ready.\n",
              "        channel.send({})\n",
              "        if (message.buffers) {\n",
              "          for (const buffer of message.buffers) {\n",
              "            buffers.push(buffer);\n",
              "            downloaded += buffer.byteLength;\n",
              "            progress.value = downloaded;\n",
              "          }\n",
              "        }\n",
              "      }\n",
              "      const blob = new Blob(buffers, {type: 'application/binary'});\n",
              "      const a = document.createElement('a');\n",
              "      a.href = window.URL.createObjectURL(blob);\n",
              "      a.download = filename;\n",
              "      div.appendChild(a);\n",
              "      a.click();\n",
              "      div.remove();\n",
              "    }\n",
              "  "
            ]
          },
          "metadata": {}
        },
        {
          "output_type": "display_data",
          "data": {
            "text/plain": [
              "<IPython.core.display.Javascript object>"
            ],
            "application/javascript": [
              "download(\"download_4c1e966d-553a-4f6a-9742-335a95befd74\", \"rf_predictions.csv\", 4096)"
            ]
          },
          "metadata": {}
        },
        {
          "output_type": "display_data",
          "data": {
            "text/plain": [
              "<IPython.core.display.Javascript object>"
            ],
            "application/javascript": [
              "\n",
              "    async function download(id, filename, size) {\n",
              "      if (!google.colab.kernel.accessAllowed) {\n",
              "        return;\n",
              "      }\n",
              "      const div = document.createElement('div');\n",
              "      const label = document.createElement('label');\n",
              "      label.textContent = `Downloading \"${filename}\": `;\n",
              "      div.appendChild(label);\n",
              "      const progress = document.createElement('progress');\n",
              "      progress.max = size;\n",
              "      div.appendChild(progress);\n",
              "      document.body.appendChild(div);\n",
              "\n",
              "      const buffers = [];\n",
              "      let downloaded = 0;\n",
              "\n",
              "      const channel = await google.colab.kernel.comms.open(id);\n",
              "      // Send a message to notify the kernel that we're ready.\n",
              "      channel.send({})\n",
              "\n",
              "      for await (const message of channel.messages) {\n",
              "        // Send a message to notify the kernel that we're ready.\n",
              "        channel.send({})\n",
              "        if (message.buffers) {\n",
              "          for (const buffer of message.buffers) {\n",
              "            buffers.push(buffer);\n",
              "            downloaded += buffer.byteLength;\n",
              "            progress.value = downloaded;\n",
              "          }\n",
              "        }\n",
              "      }\n",
              "      const blob = new Blob(buffers, {type: 'application/binary'});\n",
              "      const a = document.createElement('a');\n",
              "      a.href = window.URL.createObjectURL(blob);\n",
              "      a.download = filename;\n",
              "      div.appendChild(a);\n",
              "      a.click();\n",
              "      div.remove();\n",
              "    }\n",
              "  "
            ]
          },
          "metadata": {}
        },
        {
          "output_type": "display_data",
          "data": {
            "text/plain": [
              "<IPython.core.display.Javascript object>"
            ],
            "application/javascript": [
              "download(\"download_79746c1b-2f6f-4b77-ba95-b85d0aa03748\", \"lr_predictions.csv\", 4096)"
            ]
          },
          "metadata": {}
        },
        {
          "output_type": "display_data",
          "data": {
            "text/plain": [
              "<IPython.core.display.Javascript object>"
            ],
            "application/javascript": [
              "\n",
              "    async function download(id, filename, size) {\n",
              "      if (!google.colab.kernel.accessAllowed) {\n",
              "        return;\n",
              "      }\n",
              "      const div = document.createElement('div');\n",
              "      const label = document.createElement('label');\n",
              "      label.textContent = `Downloading \"${filename}\": `;\n",
              "      div.appendChild(label);\n",
              "      const progress = document.createElement('progress');\n",
              "      progress.max = size;\n",
              "      div.appendChild(progress);\n",
              "      document.body.appendChild(div);\n",
              "\n",
              "      const buffers = [];\n",
              "      let downloaded = 0;\n",
              "\n",
              "      const channel = await google.colab.kernel.comms.open(id);\n",
              "      // Send a message to notify the kernel that we're ready.\n",
              "      channel.send({})\n",
              "\n",
              "      for await (const message of channel.messages) {\n",
              "        // Send a message to notify the kernel that we're ready.\n",
              "        channel.send({})\n",
              "        if (message.buffers) {\n",
              "          for (const buffer of message.buffers) {\n",
              "            buffers.push(buffer);\n",
              "            downloaded += buffer.byteLength;\n",
              "            progress.value = downloaded;\n",
              "          }\n",
              "        }\n",
              "      }\n",
              "      const blob = new Blob(buffers, {type: 'application/binary'});\n",
              "      const a = document.createElement('a');\n",
              "      a.href = window.URL.createObjectURL(blob);\n",
              "      a.download = filename;\n",
              "      div.appendChild(a);\n",
              "      a.click();\n",
              "      div.remove();\n",
              "    }\n",
              "  "
            ]
          },
          "metadata": {}
        },
        {
          "output_type": "display_data",
          "data": {
            "text/plain": [
              "<IPython.core.display.Javascript object>"
            ],
            "application/javascript": [
              "download(\"download_c4664c14-0850-41cf-a061-38879f970968\", \"kmeans_predictions.csv\", 4096)"
            ]
          },
          "metadata": {}
        },
        {
          "output_type": "display_data",
          "data": {
            "text/plain": [
              "<IPython.core.display.Javascript object>"
            ],
            "application/javascript": [
              "\n",
              "    async function download(id, filename, size) {\n",
              "      if (!google.colab.kernel.accessAllowed) {\n",
              "        return;\n",
              "      }\n",
              "      const div = document.createElement('div');\n",
              "      const label = document.createElement('label');\n",
              "      label.textContent = `Downloading \"${filename}\": `;\n",
              "      div.appendChild(label);\n",
              "      const progress = document.createElement('progress');\n",
              "      progress.max = size;\n",
              "      div.appendChild(progress);\n",
              "      document.body.appendChild(div);\n",
              "\n",
              "      const buffers = [];\n",
              "      let downloaded = 0;\n",
              "\n",
              "      const channel = await google.colab.kernel.comms.open(id);\n",
              "      // Send a message to notify the kernel that we're ready.\n",
              "      channel.send({})\n",
              "\n",
              "      for await (const message of channel.messages) {\n",
              "        // Send a message to notify the kernel that we're ready.\n",
              "        channel.send({})\n",
              "        if (message.buffers) {\n",
              "          for (const buffer of message.buffers) {\n",
              "            buffers.push(buffer);\n",
              "            downloaded += buffer.byteLength;\n",
              "            progress.value = downloaded;\n",
              "          }\n",
              "        }\n",
              "      }\n",
              "      const blob = new Blob(buffers, {type: 'application/binary'});\n",
              "      const a = document.createElement('a');\n",
              "      a.href = window.URL.createObjectURL(blob);\n",
              "      a.download = filename;\n",
              "      div.appendChild(a);\n",
              "      a.click();\n",
              "      div.remove();\n",
              "    }\n",
              "  "
            ]
          },
          "metadata": {}
        },
        {
          "output_type": "display_data",
          "data": {
            "text/plain": [
              "<IPython.core.display.Javascript object>"
            ],
            "application/javascript": [
              "download(\"download_420f9b91-f1d2-494d-aa82-59474b3b4bab\", \"model_accuracy_results.csv\", 173)"
            ]
          },
          "metadata": {}
        },
        {
          "output_type": "display_data",
          "data": {
            "text/plain": [
              "<IPython.core.display.Javascript object>"
            ],
            "application/javascript": [
              "\n",
              "    async function download(id, filename, size) {\n",
              "      if (!google.colab.kernel.accessAllowed) {\n",
              "        return;\n",
              "      }\n",
              "      const div = document.createElement('div');\n",
              "      const label = document.createElement('label');\n",
              "      label.textContent = `Downloading \"${filename}\": `;\n",
              "      div.appendChild(label);\n",
              "      const progress = document.createElement('progress');\n",
              "      progress.max = size;\n",
              "      div.appendChild(progress);\n",
              "      document.body.appendChild(div);\n",
              "\n",
              "      const buffers = [];\n",
              "      let downloaded = 0;\n",
              "\n",
              "      const channel = await google.colab.kernel.comms.open(id);\n",
              "      // Send a message to notify the kernel that we're ready.\n",
              "      channel.send({})\n",
              "\n",
              "      for await (const message of channel.messages) {\n",
              "        // Send a message to notify the kernel that we're ready.\n",
              "        channel.send({})\n",
              "        if (message.buffers) {\n",
              "          for (const buffer of message.buffers) {\n",
              "            buffers.push(buffer);\n",
              "            downloaded += buffer.byteLength;\n",
              "            progress.value = downloaded;\n",
              "          }\n",
              "        }\n",
              "      }\n",
              "      const blob = new Blob(buffers, {type: 'application/binary'});\n",
              "      const a = document.createElement('a');\n",
              "      a.href = window.URL.createObjectURL(blob);\n",
              "      a.download = filename;\n",
              "      div.appendChild(a);\n",
              "      a.click();\n",
              "      div.remove();\n",
              "    }\n",
              "  "
            ]
          },
          "metadata": {}
        },
        {
          "output_type": "display_data",
          "data": {
            "text/plain": [
              "<IPython.core.display.Javascript object>"
            ],
            "application/javascript": [
              "download(\"download_51745f3f-1da2-43a4-b19b-61c3d264eb6e\", \"predictions_and_results.zip\", 17310614)"
            ]
          },
          "metadata": {}
        },
        {
          "output_type": "stream",
          "name": "stdout",
          "text": [
            "Predictions and model results saved and ready for download.\n"
          ]
        }
      ]
    }
  ]
}